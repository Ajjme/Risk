{
 "cells": [
  {
   "cell_type": "code",
   "execution_count": 4,
   "metadata": {},
   "outputs": [],
   "source": [
    "import pandas as pd\n",
    "import matplotlib.pyplot as plt\n",
    "import numpy as np\n",
    "#import openpyxl\n",
    "file_path = 'hurricanes_joint_frequency.xlsx'\n",
    "# df = pd.read_excel(file_path)\n",
    "# print(df.head())"
   ]
  },
  {
   "cell_type": "markdown",
   "metadata": {},
   "source": [
    "## 1. Data-based probability estimation"
   ]
  },
  {
   "cell_type": "markdown",
   "metadata": {},
   "source": [
    "\n",
    "#### a. Use the hurricane data to create a joint probability table of A and P\n"
   ]
  },
  {
   "cell_type": "code",
   "execution_count": 5,
   "metadata": {},
   "outputs": [
    {
     "data": {
      "text/html": [
       "<div>\n",
       "<style scoped>\n",
       "    .dataframe tbody tr th:only-of-type {\n",
       "        vertical-align: middle;\n",
       "    }\n",
       "\n",
       "    .dataframe tbody tr th {\n",
       "        vertical-align: top;\n",
       "    }\n",
       "\n",
       "    .dataframe thead th {\n",
       "        text-align: right;\n",
       "    }\n",
       "</style>\n",
       "<table border=\"1\" class=\"dataframe\">\n",
       "  <thead>\n",
       "    <tr style=\"text-align: right;\">\n",
       "      <th></th>\n",
       "      <th>1</th>\n",
       "      <th>2</th>\n",
       "      <th>3</th>\n",
       "      <th>4</th>\n",
       "      <th>5</th>\n",
       "      <th>6</th>\n",
       "      <th>7</th>\n",
       "      <th>8</th>\n",
       "      <th>9</th>\n",
       "      <th>10</th>\n",
       "      <th>11</th>\n",
       "      <th>12</th>\n",
       "    </tr>\n",
       "  </thead>\n",
       "  <tbody>\n",
       "    <tr>\n",
       "      <th>1</th>\n",
       "      <td>1.82</td>\n",
       "      <td>1.82</td>\n",
       "      <td>0.00</td>\n",
       "      <td>1.82</td>\n",
       "      <td>1.82</td>\n",
       "      <td>1.82</td>\n",
       "      <td>0.00</td>\n",
       "      <td>0.00</td>\n",
       "      <td>0.00</td>\n",
       "      <td>0.00</td>\n",
       "      <td>0.00</td>\n",
       "      <td>0.00</td>\n",
       "    </tr>\n",
       "    <tr>\n",
       "      <th>2</th>\n",
       "      <td>1.82</td>\n",
       "      <td>1.82</td>\n",
       "      <td>0.00</td>\n",
       "      <td>1.82</td>\n",
       "      <td>1.82</td>\n",
       "      <td>1.82</td>\n",
       "      <td>3.64</td>\n",
       "      <td>3.64</td>\n",
       "      <td>1.82</td>\n",
       "      <td>1.82</td>\n",
       "      <td>1.82</td>\n",
       "      <td>0.00</td>\n",
       "    </tr>\n",
       "    <tr>\n",
       "      <th>3</th>\n",
       "      <td>1.82</td>\n",
       "      <td>1.82</td>\n",
       "      <td>0.00</td>\n",
       "      <td>3.64</td>\n",
       "      <td>3.64</td>\n",
       "      <td>7.27</td>\n",
       "      <td>3.64</td>\n",
       "      <td>1.82</td>\n",
       "      <td>0.00</td>\n",
       "      <td>1.82</td>\n",
       "      <td>1.82</td>\n",
       "      <td>1.82</td>\n",
       "    </tr>\n",
       "    <tr>\n",
       "      <th>4</th>\n",
       "      <td>1.82</td>\n",
       "      <td>1.82</td>\n",
       "      <td>1.82</td>\n",
       "      <td>1.82</td>\n",
       "      <td>3.64</td>\n",
       "      <td>0.00</td>\n",
       "      <td>1.82</td>\n",
       "      <td>0.00</td>\n",
       "      <td>1.82</td>\n",
       "      <td>0.00</td>\n",
       "      <td>0.00</td>\n",
       "      <td>0.00</td>\n",
       "    </tr>\n",
       "    <tr>\n",
       "      <th>5</th>\n",
       "      <td>0.00</td>\n",
       "      <td>0.00</td>\n",
       "      <td>3.64</td>\n",
       "      <td>0.00</td>\n",
       "      <td>0.00</td>\n",
       "      <td>0.00</td>\n",
       "      <td>3.64</td>\n",
       "      <td>0.00</td>\n",
       "      <td>0.00</td>\n",
       "      <td>0.00</td>\n",
       "      <td>0.00</td>\n",
       "      <td>0.00</td>\n",
       "    </tr>\n",
       "  </tbody>\n",
       "</table>\n",
       "</div>"
      ],
      "text/plain": [
       "     1     2     3     4     5     6     7     8     9     10    11    12\n",
       "1  1.82  1.82  0.00  1.82  1.82  1.82  0.00  0.00  0.00  0.00  0.00  0.00\n",
       "2  1.82  1.82  0.00  1.82  1.82  1.82  3.64  3.64  1.82  1.82  1.82  0.00\n",
       "3  1.82  1.82  0.00  3.64  3.64  7.27  3.64  1.82  0.00  1.82  1.82  1.82\n",
       "4  1.82  1.82  1.82  1.82  3.64  0.00  1.82  0.00  1.82  0.00  0.00  0.00\n",
       "5  0.00  0.00  3.64  0.00  0.00  0.00  3.64  0.00  0.00  0.00  0.00  0.00"
      ]
     },
     "execution_count": 5,
     "metadata": {},
     "output_type": "execute_result"
    }
   ],
   "source": [
    "hurricane_data_cleaned = pd.read_excel(file_path, header=1)\n",
    "\n",
    "# Drop NaN and irrelevant columns/rows excel to python yay\n",
    "hurricane_data_cleaned = hurricane_data_cleaned.dropna(how='all', axis=1).dropna(how='all', axis=0)\n",
    "\n",
    "# I just want the numbers\n",
    "joint_frequency_table = hurricane_data_cleaned.iloc[1:, 1:].astype(float)\n",
    "\n",
    "# Calculate the total number of events so we can divide to go from frequency to probability\n",
    "total_events = joint_frequency_table.values.sum()\n",
    "\n",
    "# Calculate the joint probabilities\n",
    "joint_probabilities = joint_frequency_table / total_events\n",
    "\n",
    "joint_probabilities_percent = joint_probabilities * 100\n",
    "\n",
    "# Display the percentages with rounded values for readability\n",
    "joint_probabilities_percent = joint_probabilities_percent.round(2)\n",
    "joint_probabilities_percent.columns = range(1, 13)\n",
    "joint_probabilities_percent.head()\n"
   ]
  },
  {
   "cell_type": "markdown",
   "metadata": {},
   "source": [
    "#### b. Create a bar plot representing the marginal probability mass function of A. What is the probability of four or more major hurricanes in the Atlantic in any given year?"
   ]
  },
  {
   "cell_type": "code",
   "execution_count": 6,
   "metadata": {},
   "outputs": [
    {
     "data": {
      "image/png": "[encoded data removed]",
      "text/plain": [
       "<Figure size 720x432 with 1 Axes>"
      ]
     },
     "metadata": {
      "needs_background": "light"
     },
     "output_type": "display_data"
    }
   ],
   "source": [
    "atlantic = pd.read_excel(file_path, header=2)\n",
    "# Sum up all values in a specific row (e.g., row index 1)\n",
    "row_sum = atlantic.iloc[1, 1:].sum()\n",
    "# Sum all rows and create a new column with the total for each row\n",
    "atlantic['Row Total'] = atlantic.iloc[:, 1:].sum(axis=1)\n",
    "atlantic['Count Events'] = atlantic['Row Total']*atlantic['Atlantic']\n",
    "total_events = atlantic['Count Events'].values.sum()\n",
    "atlantic['Marginal Prob'] = (atlantic['Count Events']/total_events)*100\n",
    "# Plot the bar chart\n",
    "plt.figure(figsize=(10, 6))\n",
    "plt.bar(atlantic['Atlantic'], atlantic['Marginal Prob'])\n",
    "\n",
    "# Add titles and labels\n",
    "plt.title('Answer to B', fontsize=14)\n",
    "plt.xlabel('Count of Hurricanes in Atlantic', fontsize=12)\n",
    "plt.ylabel('Marginal Prob', fontsize=12)\n",
    "\n",
    "# Show the chart\n",
    "plt.xticks(rotation=45)  # Rotate x-axis labels for better readability\n",
    "plt.tight_layout()  # Adjust layout to make sure everything fits\n",
    "plt.show()"
   ]
  },
  {
   "cell_type": "code",
   "execution_count": 7,
   "metadata": {},
   "outputs": [
    {
     "name": "stdout",
     "output_type": "stream",
     "text": [
      "The marginal probability that 4 or more hurricanes happen in a year is 51.43%.\n"
     ]
    }
   ],
   "source": [
    "#Part 2\n",
    "prob_4_or_more = atlantic.loc[atlantic['Atlantic'] >= 4, 'Marginal Prob'].sum()\n",
    "\n",
    "# Print the result\n",
    "print(f\"The marginal probability that 4 or more hurricanes happen in a year is {prob_4_or_more:.2f}%.\")\n"
   ]
  },
  {
   "cell_type": "markdown",
   "metadata": {},
   "source": [
    "#### c. Create a bar plot representing the marginal probability mass function of P. What is the probability of four or more major hurricanes in the Pacific in any given year?"
   ]
  },
  {
   "cell_type": "code",
   "execution_count": 8,
   "metadata": {},
   "outputs": [
    {
     "data": {
      "image/png": "[encoded data removed]",
      "text/plain": [
       "<Figure size 576x432 with 1 Axes>"
      ]
     },
     "metadata": {
      "needs_background": "light"
     },
     "output_type": "display_data"
    },
    {
     "name": "stdout",
     "output_type": "stream",
     "text": [
      "Probability of four or more major hurricanes in the Pacific in any given year '4' to '11': 80.86956521739131\n"
     ]
    }
   ],
   "source": [
    "Pacific = pd.read_excel(file_path, header=2)\n",
    "column_sums = Pacific.sum(axis=0)\n",
    "Pacific.loc['Total'] = column_sums\n",
    "Pacific = Pacific.drop(Pacific.columns[0], axis=1)\n",
    "columns_as_numbers = pd.Series(Pacific.columns, index=Pacific.columns)\n",
    "Pacific.loc['Multiplied'] = Pacific.loc['Total'] * columns_as_numbers\n",
    "total_events = Pacific.loc['Multiplied'].values.sum()\n",
    "Pacific.loc['Marginal Prob'] = Pacific.loc['Multiplied'] / total_events *100\n",
    "\n",
    "\n",
    "plt.figure(figsize=(8, 6))\n",
    "plt.bar(Pacific.columns, Pacific.loc['Marginal Prob'])\n",
    "\n",
    "# Add labels and title\n",
    "plt.title('Marginal Prob of Hurricanes in P', fontsize=14)\n",
    "plt.xlabel('Count of Hurricanes in P', fontsize=12)\n",
    "plt.ylabel('Marginal Prob', fontsize=12)\n",
    "\n",
    "# Display the chart\n",
    "plt.xticks(rotation=45)  \n",
    "plt.tight_layout()  \n",
    "plt.show()\n",
    "#Pacific\n",
    "\n",
    "# Calculate the summation of the \"Marginal Prob\" row from column \"4\" to \"11\"\n",
    "start_col = 4\n",
    "end_col = \"11\"\n",
    "\n",
    "# Filter the columns from \"4\" to \"11\" and sum the values in the \"Marginal Prob\" row\n",
    "marginal_sum = Pacific.loc['Marginal Prob', start_col:].sum()\n",
    "\n",
    "print(f\"Probability of four or more major hurricanes in the Pacific in any given year '{start_col}' to '{end_col}': {marginal_sum}\")"
   ]
  },
  {
   "cell_type": "markdown",
   "metadata": {},
   "source": [
    "### d. What is the probability there will be four or more major hurricanes in each of the Atlantic and Pacific in the same year?\n"
   ]
  },
  {
   "cell_type": "code",
   "execution_count": 9,
   "metadata": {},
   "outputs": [
    {
     "name": "stdout",
     "output_type": "stream",
     "text": [
      "Probability of four or more major hurricanes in the Pacific and Atlantic in any given year '41.59006211180125'% \n"
     ]
    }
   ],
   "source": [
    "prob_four_major_hurricanes_in_both = (marginal_sum)/100 * (prob_4_or_more)/100\n",
    "print(f\"Probability of four or more major hurricanes in the Pacific and Atlantic in any given year '{prob_four_major_hurricanes_in_both*100}'% \") "
   ]
  },
  {
   "cell_type": "markdown",
   "metadata": {},
   "source": [
    "#### e. Calculate the expected value of A and the expected value of P."
   ]
  },
  {
   "cell_type": "code",
   "execution_count": 10,
   "metadata": {},
   "outputs": [
    {
     "name": "stdout",
     "output_type": "stream",
     "text": [
      "expected value of A '3.7830000000000004'  \n",
      "expected value of P '6.0000000799999995'  \n"
     ]
    }
   ],
   "source": [
    "hurricanes = np.array([0, 1, 2, 3, 4, 5, 6, 7,8,9,10,11])  # Number of hurricanes\n",
    "probabilities = np.array([0, 0.085, 0.229, 0.171, 0.114, 0.179, 0.171, 0.05,0,0,0,0])  # Marginal probabilities # had to add zero to match\n",
    "\n",
    "expected_value = np.sum(hurricanes * probabilities)\n",
    "print(f\"expected value of A '{expected_value}'  \") \n",
    "hurricanes_p = np.array([0, 1, 2, 3, 4, 5, 6, 7, 8 ,9, 10, 11])  # Number of hurricanes\n",
    "probabilities_p = np.array([0.0, 0.0173913, 0.06956522, 0.10434783, 0.12173913, 0.13043478, 0.1826087, 0.09130435, 0.06956522, 0.07826087, 0.08695652, 0.04782609])  # Marginal probabilities\n",
    "\n",
    "expected_value_p = np.sum(hurricanes_p * probabilities_p)\n",
    "print(f\"expected value of P '{expected_value_p}'  \") "
   ]
  },
  {
   "cell_type": "markdown",
   "metadata": {},
   "source": [
    "#### f. Calculate the variance and standard deviation of A and the variance and standard deviation of P. "
   ]
  },
  {
   "cell_type": "code",
   "execution_count": 11,
   "metadata": {},
   "outputs": [
    {
     "name": "stdout",
     "output_type": "stream",
     "text": [
      "Variance Atlantic: 3.119599911\n",
      "Standard Deviation Atlantic: 1.76623891673805\n"
     ]
    }
   ],
   "source": [
    "variance = np.sum(probabilities * (hurricanes - expected_value) ** 2)\n",
    "standard_deviation = np.sqrt(variance)\n",
    "\n",
    "print(f\"Variance Atlantic: {variance}\")\n",
    "print(f\"Standard Deviation Atlantic: {standard_deviation}\")"
   ]
  },
  {
   "cell_type": "code",
   "execution_count": 12,
   "metadata": {},
   "outputs": [
    {
     "name": "stdout",
     "output_type": "stream",
     "text": [
      "Variance P: 6.765217420000003\n",
      "Standard Deviation P: 2.601003156476363\n"
     ]
    }
   ],
   "source": [
    "variance_p = np.sum(probabilities_p * (hurricanes_p - expected_value_p) ** 2)\n",
    "standard_deviation_p = np.sqrt(variance_p)\n",
    "\n",
    "print(f\"Variance P: {variance_p}\")\n",
    "print(f\"Standard Deviation P: {standard_deviation_p}\")"
   ]
  },
  {
   "cell_type": "markdown",
   "metadata": {},
   "source": [
    "#### g. Calculate the covariance of A and P"
   ]
  },
  {
   "cell_type": "code",
   "execution_count": 13,
   "metadata": {},
   "outputs": [
    {
     "name": "stdout",
     "output_type": "stream",
     "text": [
      "Covariance: [[0.12264202 0.04065616]\n",
      " [0.04065616 0.10231569]]\n"
     ]
    }
   ],
   "source": [
    "x = hurricanes * probabilities  # Values for variable Atlantic hurricanes\n",
    "y = hurricanes_p * probabilities_p  # Values for variable Pacific Hurricanes\n",
    "\n",
    "### I guess they have to be the same length so what dimentions need better value which one?\n",
    "# Step 1: Compute the means\n",
    "mean_x = np.mean(x)\n",
    "mean_y = np.mean(y)\n",
    "\n",
    "# Step 2: Compute covariance\n",
    "#covariance = np.mean((x - mean_x) * (y - mean_y))\n",
    "cov_matrix = np.cov(x, y, bias=True)\n",
    "print(f\"Covariance: {cov_matrix}\")"
   ]
  },
  {
   "cell_type": "markdown",
   "metadata": {},
   "source": [
    "#### h. Calculate the correlation of A and P. Interpret the sign of this value."
   ]
  },
  {
   "cell_type": "code",
   "execution_count": 14,
   "metadata": {},
   "outputs": [
    {
     "name": "stdout",
     "output_type": "stream",
     "text": [
      "Correlation: 0.3629406240179237\n"
     ]
    }
   ],
   "source": [
    "# Example data\n",
    "x = hurricanes * probabilities  # Values for variable Atlantic hurricanes\n",
    "y = hurricanes_p * probabilities_p  # Values for variable Pacific Hurricanes\n",
    "\n",
    "# Step 1: Compute the means\n",
    "mean_x = np.mean(x)\n",
    "mean_y = np.mean(y)\n",
    "\n",
    "# Step 2: Compute the correlation\n",
    "numerator = np.sum((x - mean_x) * (y - mean_y))\n",
    "denominator = np.sqrt(np.sum((x - mean_x) ** 2) * np.sum((y - mean_y) ** 2))\n",
    "\n",
    "correlation = numerator / denominator\n",
    "\n",
    "print(f\"Correlation: {correlation}\")"
   ]
  },
  {
   "cell_type": "markdown",
   "metadata": {},
   "source": [
    "#### i. Use the data to create a conditional probability table of A, given P>4."
   ]
  },
  {
   "cell_type": "code",
   "execution_count": 15,
   "metadata": {},
   "outputs": [
    {
     "name": "stdout",
     "output_type": "stream",
     "text": [
      "Conditional Probability Table of A, given P > 4:\n",
      "1    0.072727\n",
      "2    0.109091\n",
      "3    0.200000\n",
      "4    0.109091\n",
      "5    0.072727\n",
      "6    0.090909\n",
      "7    0.072727\n",
      "8    0.018182\n",
      "dtype: float64\n"
     ]
    }
   ],
   "source": [
    "joint_frequency_array = joint_frequency_table.values.astype(int)\n",
    "# Find where P > 4 (Columns corresponding to Pacific hurricanes)\n",
    "P_greater_than_4 = joint_frequency_table.loc[:, joint_frequency_table.sum(axis=0) > 4]\n",
    "\n",
    "# Calculate the joint frequency of A (Atlantic hurricanes) and P > 4\n",
    "joint_freq_A_given_P_greater_than_4 = joint_frequency_table.loc[:, joint_frequency_table.sum(axis=0) > 4].sum(axis=1)\n",
    "\n",
    "# Calculate the marginal probability of P > 4\n",
    "P_P_greater_than_4 = joint_frequency_table.sum(axis=0).sum()\n",
    "\n",
    "# Calculate conditional probability P(A | P > 4)\n",
    "conditional_prob = joint_freq_A_given_P_greater_than_4 / P_P_greater_than_4\n",
    "\n",
    "print(\"Conditional Probability Table of A, given P > 4:\")\n",
    "print(conditional_prob)\n",
    "#needed for later\n",
    "# sum_p_gt_4 = sum(prob for a, prob in conditional_prob.items() if a > 4)\n",
    "# print(sum_p_gt_4)"
   ]
  },
  {
   "cell_type": "markdown",
   "metadata": {},
   "source": [
    "#### j. Calculate the conditional expected value of A, given P>4."
   ]
  },
  {
   "cell_type": "code",
   "execution_count": 16,
   "metadata": {},
   "outputs": [
    {
     "name": "stdout",
     "output_type": "stream",
     "text": [
      "Conditional Expected Value of A, given P > 4: 2.8909090909090907\n"
     ]
    }
   ],
   "source": [
    "# Calculate the conditional probability of A, given P > 4\n",
    "conditional_prob = joint_freq_A_given_P_greater_than_4 / P_P_greater_than_4\n",
    "\n",
    "# Calculate the conditional expected value of A, given P > 4\n",
    "conditional_expected_value_A_given_P_greater_than_4 = (conditional_prob * joint_freq_A_given_P_greater_than_4.index).sum()\n",
    "\n",
    "# Print the result\n",
    "print(f\"Conditional Expected Value of A, given P > 4: {conditional_expected_value_A_given_P_greater_than_4}\")"
   ]
  },
  {
   "cell_type": "markdown",
   "metadata": {},
   "source": [
    "#### k. Calculate the conditional variance and standard deviation of A, given P>4"
   ]
  },
  {
   "cell_type": "code",
   "execution_count": 17,
   "metadata": {},
   "outputs": [
    {
     "name": "stdout",
     "output_type": "stream",
     "text": [
      "Conditional Variance of A, given P > 4: 5.515371900826446\n",
      "Conditional Standard Deviation of A, given P > 4: 2.348482893449822\n"
     ]
    }
   ],
   "source": [
    "# Calculate E(A^2 | P > 4)\n",
    "conditional_expected_value_A_squared_given_P_greater_than_4 = (conditional_prob * (joint_freq_A_given_P_greater_than_4.index**2)).sum()\n",
    "\n",
    "# Calculate conditional variance of A, given P > 4\n",
    "conditional_variance_A_given_P_greater_than_4 = conditional_expected_value_A_squared_given_P_greater_than_4 - conditional_expected_value_A_given_P_greater_than_4**2\n",
    "\n",
    "# Calculate conditional standard deviation of A, given P > 4\n",
    "conditional_std_deviation_A_given_P_greater_than_4 = np.sqrt(conditional_variance_A_given_P_greater_than_4)\n",
    "\n",
    "# Print the results\n",
    "print(f\"Conditional Variance of A, given P > 4: {conditional_variance_A_given_P_greater_than_4}\")\n",
    "print(f\"Conditional Standard Deviation of A, given P > 4: {conditional_std_deviation_A_given_P_greater_than_4}\")\n"
   ]
  },
  {
   "cell_type": "markdown",
   "metadata": {},
   "source": [
    "#### l. Let T represent the yearly total number of Atlantic and Pacific major hurricanes. Create a bar plot representing the probability mass function of T."
   ]
  },
  {
   "cell_type": "code",
   "execution_count": 18,
   "metadata": {},
   "outputs": [
    {
     "name": "stdout",
     "output_type": "stream",
     "text": [
      "0     0.018182\n",
      "1     0.036364\n",
      "2     0.036364\n",
      "3     0.054545\n",
      "4     0.054545\n",
      "5     0.109091\n",
      "6     0.109091\n",
      "7     0.200000\n",
      "8     0.109091\n",
      "9     0.109091\n",
      "10    0.072727\n",
      "11    0.054545\n",
      "12    0.018182\n",
      "13    0.018182\n",
      "Name: proportion, dtype: float64\n"
     ]
    },
    {
     "data": {
      "image/png": "[encoded data removed]",
      "text/plain": [
       "<Figure size 720x432 with 1 Axes>"
      ]
     },
     "metadata": {
      "needs_background": "light"
     },
     "output_type": "display_data"
    }
   ],
   "source": [
    "joint_frequency_array = joint_frequency_table.values.astype(int)\n",
    "\n",
    "# Sum across each row for all possible combinations of Atlantic and Pacific hurricanes\n",
    "total_hurricanes = []\n",
    "for i in range(joint_frequency_table.shape[0]):  # Iterate over each row (Atlantic counts)\n",
    "    for j in range(joint_frequency_table.shape[1]):  # Iterate over each column (Pacific counts)\n",
    "        # Ensure the count is an integer for multiplication\n",
    "        total_hurricanes.extend([i + j] * int(joint_frequency_table.iloc[i, j]))\n",
    "\n",
    "# Convert to a Pandas Series for easier handling\n",
    "total_hurricanes_series = pd.Series(total_hurricanes)\n",
    "\n",
    "# Calculate the PMF (Probability Mass Function)\n",
    "pmf = total_hurricanes_series.value_counts(normalize=True).sort_index()\n",
    "print(pmf)\n",
    "\n",
    "# Plot the PMF\n",
    "plt.figure(figsize=(10, 6))\n",
    "pmf.plot(kind='bar')\n",
    "plt.title('Probability Mass Function of Total Hurricanes (T) per Year')\n",
    "plt.xlabel('Total Number of Hurricanes (T)')\n",
    "plt.ylabel('Probability')\n",
    "plt.xticks(rotation=0)\n",
    "plt.show()"
   ]
  },
  {
   "cell_type": "markdown",
   "metadata": {},
   "source": [
    "#### m. Calculate the mean, variance, and standard deviation of T."
   ]
  },
  {
   "cell_type": "code",
   "execution_count": 19,
   "metadata": {},
   "outputs": [
    {
     "name": "stdout",
     "output_type": "stream",
     "text": [
      "Mean: 6.7272727272727275\n",
      "Variance: 8.276094276094275\n",
      "Standard Deviation: 2.876820167492969\n"
     ]
    }
   ],
   "source": [
    "# Calculate mean, variance, and standard deviation\n",
    "mean = total_hurricanes_series.mean()\n",
    "variance = total_hurricanes_series.var()\n",
    "std_deviation = total_hurricanes_series.std()\n",
    "\n",
    "# Print the results\n",
    "print(f\"Mean: {mean}\")\n",
    "print(f\"Variance: {variance}\")\n",
    "print(f\"Standard Deviation: {std_deviation}\")\n"
   ]
  },
  {
   "cell_type": "markdown",
   "metadata": {},
   "source": [
    "#### n. Calculate the probability that T>8 in any given year."
   ]
  },
  {
   "cell_type": "code",
   "execution_count": 20,
   "metadata": {},
   "outputs": [
    {
     "name": "stdout",
     "output_type": "stream",
     "text": [
      "Probability that total hurricanes > 8: 27.27272727272727%\n"
     ]
    }
   ],
   "source": [
    "sum_after_8 = pmf.loc[pmf.index > 8].sum()\n",
    "print(f\"Probability that total hurricanes > 8: {sum_after_8*100}%\")\n"
   ]
  },
  {
   "cell_type": "markdown",
   "metadata": {},
   "source": [
    "## 2. Probability distribution function estimation:"
   ]
  },
  {
   "cell_type": "markdown",
   "metadata": {},
   "source": [
    "#### a. The yearly hurricane data from each ocean represent count data, which could be modeled by a Binomial, Negative Binomial, Geometric, or Poisson distribution. According to the datagenerating processes used to derive each distribution, which of these do you think is most appropriate for modeling the hurricane data? Explain your reasoning."
   ]
  },
  {
   "cell_type": "markdown",
   "metadata": {},
   "source": [
    "#### Poisson distribution\n",
    "\n",
    "##### Interpretation: Number of occurrences of an event with frequency l(Our case Hurricanes) over a particular interval of space or time.(Our case one Year)\n",
    "##### It is Commonly used for occurrence of storms and floods.\n",
    "\n"
   ]
  },
  {
   "cell_type": "markdown",
   "metadata": {},
   "source": [
    "#### b. Use the chi-square criterion to find the parameter of the Poisson distribution that best fits the data on A. Report both the chi-square value and the optimal value of the parameter. \n"
   ]
  },
  {
   "cell_type": "code",
   "execution_count": 21,
   "metadata": {},
   "outputs": [
    {
     "name": "stdout",
     "output_type": "stream",
     "text": [
      "26.9680677163492\n",
      "Optimal Lambda: [2.65615374]\n"
     ]
    }
   ],
   "source": [
    "from scipy.stats import binom, nbinom, poisson\n",
    "from scipy.optimize import minimize\n",
    "\n",
    "hurricanes_a = np.array([0, 1, 2, 3, 4, 5, 6, 7,8,9,10,11])  # Number of hurricanes\n",
    "probabilities_a = np.array([0, 0.085, 0.229, 0.171, 0.114, 0.179, 0.171, 0.05,0,0,0,0])  # Marginal probabilities # had to add zero to match\n",
    "count_a = np.array([5, 12, 16, 8, 4, 5, 4, 1,0,0,0,0])\n",
    "\n",
    "data = pd.DataFrame({\n",
    "    \"Number_of_Hurricanes\": hurricanes_a,\n",
    "    \"Probability\": probabilities_a,\n",
    "    \"Count\": count_a\n",
    "})\n",
    "# count_p = hurricanes_a = np.array([5, 4, 8, 8, 7, 6, 7, 3,2,2,2,1])\n",
    "def ChiSquared(parameters, data, distribution):\n",
    "    n = data['Count'].sum()  # Total number of observations\n",
    "    expected_count = n * distribution.pmf(data['Number_of_Hurricanes'], parameters)  # Expected counts\n",
    "    return np.sum((data['Count'] - expected_count) ** 2 / expected_count)  # Chi-squared formula\n",
    "\n",
    "# Example usage of the ChiSquared function with an initial parameter\n",
    "parameters = [2]\n",
    "print(ChiSquared(parameters, data, poisson))\n",
    "\n",
    "\n",
    "initial_guess = [2]  # Initial guess for lambda\n",
    "result = minimize(ChiSquared, initial_guess, args=(data, poisson))\n",
    "print(\"Optimal Lambda:\", result.x)"
   ]
  },
  {
   "cell_type": "markdown",
   "metadata": {},
   "source": [
    "#### How does this parameter value compare to the expected value of A calculated in problem 1 above? \n",
    "##### expected value of A '3.7830000000000004'  the optimized value is around 1 of the expected value\n",
    "#### How does this value compare to the variance of A calculated in problem 1 above? \n",
    "##### Variance Atlantic: 3.119599911 it is closer to 2.6\n",
    "#### Explain why these are similar or different. Are the data on A over- or under-dispersed (i.e., spread out) relative to what would be expected of a Poisson distribution?\n",
    "##### Variance is less than the mean meaning this is under-dispersed"
   ]
  },
  {
   "cell_type": "markdown",
   "metadata": {},
   "source": [
    "#### c. Use the chi-square criterion to find the parameter of the Poisson distribution that best fits the data on P. Report both the chi-square value and the optimal value of the parameter. How does this value compare to the expected value of P calculated in problem 1 above? How does this value compare to the variance of P calculated in problem 1 above? Explain why these are similar or different. Are the data on P over- or under-dispersed (i.e., spread out) relative to what would be expected of a Poisson distribution?"
   ]
  },
  {
   "cell_type": "code",
   "execution_count": 22,
   "metadata": {},
   "outputs": [
    {
     "name": "stdout",
     "output_type": "stream",
     "text": [
      "5098.228408196303\n",
      "Optimal Lambda: [4.17455118]\n"
     ]
    }
   ],
   "source": [
    "from scipy.stats import binom, nbinom, poisson\n",
    "from scipy.optimize import minimize\n",
    "\n",
    "hurricanes_a = np.array([0, 1, 2, 3, 4, 5, 6, 7,8,9,10,11])  # Number of hurricanes\n",
    "#probabilities_a = np.array([0, 0.085, 0.229, 0.171, 0.114, 0.179, 0.171, 0.05,0,0,0,0])  # Marginal probabilities # had to add zero to match\n",
    "count_p =  np.array([5, 4, 8, 8, 7, 6, 7, 3,2,2,2,1])\n",
    "\n",
    "data = pd.DataFrame({\n",
    "    \"Number_of_Hurricanes\": hurricanes_a,\n",
    "    \"Probability\": probabilities_a,\n",
    "    \"Count\": count_p\n",
    "})\n",
    "def ChiSquared(parameters, data, distribution):\n",
    "    n = data['Count'].sum()  # Total number of observations\n",
    "    expected_count = n * distribution.pmf(data['Number_of_Hurricanes'], parameters)  # Expected counts\n",
    "    return np.sum((data['Count'] - expected_count) ** 2 / expected_count)  # Chi-squared formula\n",
    "\n",
    "# Example usage of the ChiSquared function with an initial parameter\n",
    "parameters = [2]\n",
    "print(ChiSquared(parameters, data, poisson))\n",
    "\n",
    "\n",
    "initial_guess = [2]  # Initial guess for lambda\n",
    "result = minimize(ChiSquared, initial_guess, args=(data, poisson))\n",
    "print(\"Optimal Lambda:\", result.x)"
   ]
  },
  {
   "cell_type": "markdown",
   "metadata": {},
   "source": [
    "#### How does this parameter value compare to the expected value of P calculated in problem 1 above? \n",
    "##### expected value of A '6.0'  the optimized value is around almost exactly the expected value\n",
    "#### How does this value compare to the variance of A calculated in problem 1 above? \n",
    "##### Variance Atlantic: 6.765217420000003 it is closer to very close to the value\n",
    "#### Explain why these are similar or different. Are the data on A over- or under-dispersed (i.e., spread out) relative to what would be expected of a Poisson distribution?\n",
    "##### Variance is more than the mean meaning this is over-dispersed"
   ]
  },
  {
   "cell_type": "markdown",
   "metadata": {},
   "source": [
    "#### d. Write out the mathematical function for the Poisson probability mass function for the yearly number of major hurricanes in the Atlantic (A) using your parameter estimate from part 2b. Using this function, what is the probability of four or more major hurricanes in the Atlantic in any given ear? How does this value compare to the value calculated in problem 1 above? Explain why these are similar or different."
   ]
  },
  {
   "cell_type": "code",
   "execution_count": 23,
   "metadata": {},
   "outputs": [
    {
     "data": {
      "text/latex": [
       "$\\displaystyle P(X = x) = \\frac{(2.65)^x e^{-2.65}}{x!}, \\quad k = 0, 1, 2, \\ldots$"
      ],
      "text/plain": [
       "<IPython.core.display.Math object>"
      ]
     },
     "metadata": {},
     "output_type": "display_data"
    }
   ],
   "source": [
    "from IPython.display import display, Math\n",
    "# x is number of successes\n",
    "# Display the LaTeX formula for the Poisson distribution\n",
    "display(Math(r\"P(X = x) = \\frac{(2.65)^x e^{-2.65}}{x!}, \\quad k = 0, 1, 2, \\ldots\"))\n"
   ]
  },
  {
   "cell_type": "code",
   "execution_count": 24,
   "metadata": {},
   "outputs": [
    {
     "name": "stdout",
     "output_type": "stream",
     "text": [
      "0.2749169036627157\n",
      "51\n"
     ]
    }
   ],
   "source": [
    "import math\n",
    "# Given parameter\n",
    "lambda_ = 2.65\n",
    "# Calculate P(X = x) for x = 0, 1, 2, 3\n",
    "probabilities = [((lambda_ ** x) * math.exp(-lambda_)) / math.factorial(x) for x in range(4)]\n",
    "# Calculate P(X <= 3)\n",
    "p_leq_3 = sum(probabilities)\n",
    "# Calculate P(X >= 4)\n",
    "p_geq_4_a = 1 - p_leq_3 # then take the other side\n",
    "\n",
    "print(p_geq_4_a)\n",
    "#calculated value from above\n",
    "print(\"51\")"
   ]
  },
  {
   "cell_type": "markdown",
   "metadata": {},
   "source": [
    "#### these values are Pretty far off because the atlantic data is more binomial then a possion distribution"
   ]
  },
  {
   "cell_type": "markdown",
   "metadata": {},
   "source": [
    "# Same as above but for P\n",
    "#### e. Write out the mathematical formula for the Poisson probability mass function for the yearly number of major hurricanes in the Pacific (P) using your parameter estimate from part 2c. Using this function, what is the probability of four or more major hurricanes in the Pacific in any given year? How does this value compare to the value calculated in problem 1c above? Explain why these are similar or different."
   ]
  },
  {
   "cell_type": "code",
   "execution_count": 25,
   "metadata": {},
   "outputs": [
    {
     "data": {
      "text/latex": [
       "$\\displaystyle P(X = x) = \\frac{(4.170)^x e^{-4.170}}{x!}, \\quad k = 0, 1, 2, \\ldots$"
      ],
      "text/plain": [
       "<IPython.core.display.Math object>"
      ]
     },
     "metadata": {},
     "output_type": "display_data"
    },
    {
     "name": "stdout",
     "output_type": "stream",
     "text": [
      "0.5990179369073508\n",
      "80.86956521739131\n"
     ]
    }
   ],
   "source": [
    "display(Math(r\"P(X = x) = \\frac{(4.170)^x e^{-4.170}}{x!}, \\quad k = 0, 1, 2, \\ldots\"))\n",
    "lambda_ = 4.17\n",
    "# Calculate P(X = x) for x = 0, 1, 2, 3\n",
    "probabilities = [((lambda_ ** x) * math.exp(-lambda_)) / math.factorial(x) for x in range(4)]\n",
    "# Calculate P(X <= 3)\n",
    "p_leq_3 = sum(probabilities)\n",
    "# Calculate P(X >= 4)\n",
    "p_geq_4_p = 1 - p_leq_3 # then take the other side\n",
    "\n",
    "print(p_geq_4_p)\n",
    "#calculated value from above\n",
    "print(marginal_sum)"
   ]
  },
  {
   "cell_type": "markdown",
   "metadata": {},
   "source": [
    "#### this value of off by 20% this difference is because the frequency valuse of 9 and 10 are large fro the raw data but the curve flattens this out and is not captured"
   ]
  },
  {
   "cell_type": "markdown",
   "metadata": {},
   "source": [
    "#### f. Assuming independence between A and P and using your Poisson mass function formulas from parts 2 d and e, what is the probability there will be four or more major hurricanes in each of the Atlantic and Pacific in the same year? How does this value compare to the value calculated in problem 1 above? Explain why these are similar or different."
   ]
  },
  {
   "cell_type": "code",
   "execution_count": 26,
   "metadata": {},
   "outputs": [
    {
     "data": {
      "text/plain": [
       "0.1646801564529969"
      ]
     },
     "execution_count": 26,
     "metadata": {},
     "output_type": "execute_result"
    }
   ],
   "source": [
    "#### Just multiply the values together as they are independent\n",
    "#Probability of four or more major hurricanes in the Pacific and Atlantic in any given year from 1d '41.59006211180125'% \n",
    "prob_both_over_4 = (p_geq_4_p)/100 * p_geq_4_a\n",
    "prob_both_over_4*100"
   ]
  },
  {
   "cell_type": "markdown",
   "metadata": {},
   "source": [
    "#### '41.5'%  vs 16.4% this is a pretty big difference. Small differences get magnifed when multiplying probabilities"
   ]
  },
  {
   "cell_type": "markdown",
   "metadata": {},
   "source": [
    "#### g. Assuming independence between A and P and using your Poisson mass function formulas from parts 2 d and e, what is the probability that the total number of Atlantic and Pacific majorhurricanes (T) will be greater than or equal to eight in a given year? How does this value compare to the value calculated in problem 1 above? Explain why these are similar or different."
   ]
  },
  {
   "cell_type": "code",
   "execution_count": 27,
   "metadata": {},
   "outputs": [
    {
     "name": "stdout",
     "output_type": "stream",
     "text": [
      "Probability that total hurricanes > 8: 37.448660965032275%\n",
      "Probability that total hurricanes > 8: 27.27272727272727%\n"
     ]
    }
   ],
   "source": [
    "# Given lambda values\n",
    "lambda_1 = 4.17\n",
    "lambda_2 = 2.65\n",
    "\n",
    "# Total lambda for the combined Poisson distribution\n",
    "lambda_T = lambda_1 + lambda_2# lamda is the mean basically so I think I can add them?\n",
    "\n",
    "probabilities_T = [((lambda_T ** x) * math.exp(-lambda_T)) / math.factorial(x) for x in range(8)]\n",
    "\n",
    "p_leq_7 = sum(probabilities_T)\n",
    "# Calculate P(T >= 8)\n",
    "p_geq_8 = 1 - p_leq_7\n",
    "\n",
    "print(f\"Probability that total hurricanes > 8: {p_geq_8*100}%\" )\n",
    "\n",
    "print(f\"Probability that total hurricanes > 8: {sum_after_8*100}%\")\n"
   ]
  },
  {
   "cell_type": "markdown",
   "metadata": {},
   "source": [
    "##### these are pretty close the Poisson shifts things to smooth the curve"
   ]
  },
  {
   "cell_type": "markdown",
   "metadata": {},
   "source": [
    "#### h. Is it reasonable to assume that, if the yearly number of major hurricanes in the Atlantic and Pacific each follow a Poisson distribution, then the total yearly number of Atlantic and Pacific major hurricanes (T) will also follow a Poisson distribution? Why or why not? If you answered ‘yes’, what would you expect to be the value of the parameter for the Poisson distribution for T? Find the parameter of the Poisson distribution that minimizes the chi-square criterion for the data on T. Report both the chi-square value and the corresponding value of the parameter. Does this parameter value match what you expected? Explain why these are similar or different"
   ]
  },
  {
   "cell_type": "markdown",
   "metadata": {},
   "source": [
    "##### Yes If the peaces follow then it should follow that the sum does\n",
    "##### I would add the lamdas together as I did above"
   ]
  },
  {
   "cell_type": "code",
   "execution_count": 28,
   "metadata": {},
   "outputs": [
    {
     "name": "stdout",
     "output_type": "stream",
     "text": [
      "59.0463141760747\n",
      "Optimal Lambda: [6.28511988]\n"
     ]
    }
   ],
   "source": [
    "hurricanes_a = np.array([0, 1, 2, 3, 4, 5, 6, 7,8,9,10,11,12,13])  # Number of hurricanes\n",
    "#probabilities_a = np.array([0, 0.085, 0.229, 0.171, 0.114, 0.179, 0.171, 0.05,0,0,0,0])  # Marginal probabilities # had to add zero to match\n",
    "count_p = np.array([5, 4, 8, 8, 7, 6, 7, 3,2,2,2,1])\n",
    "count_a = np.array([5, 12, 16, 8, 4, 5, 4, 1,0,0,0,0])\n",
    "\n",
    "#pulled this from problem 1\n",
    "pmf\n",
    "\n",
    "\n",
    "data = pd.DataFrame({\n",
    "    \"Number_of_Hurricanes\": hurricanes_a,\n",
    "    #\"Probability\": probabilities_a,\n",
    "    \"Count\": pmf\n",
    "})\n",
    "\n",
    "def ChiSquared(parameters, data, distribution):\n",
    "    n = data['Count'].sum()  # Total number of observations\n",
    "    expected_count = n * distribution.pmf(data['Number_of_Hurricanes'], parameters)  # Expected counts\n",
    "    return np.sum((data['Count'] - expected_count) ** 2 / expected_count)  # Chi-squared formula\n",
    "\n",
    "# Example usage of the ChiSquared function with an initial parameter\n",
    "parameters = [3]\n",
    "print(ChiSquared(parameters, data, poisson))\n",
    "\n",
    "\n",
    "initial_guess = [1]  # Initial guess for lambda\n",
    "result = minimize(ChiSquared, initial_guess, args=(data, poisson))\n",
    "print(\"Optimal Lambda:\", result.x)"
   ]
  },
  {
   "cell_type": "markdown",
   "metadata": {},
   "source": [
    "##### it matches! I guess you can add the possions together"
   ]
  },
  {
   "cell_type": "markdown",
   "metadata": {},
   "source": [
    "#### i. Using your estimated value for the parameter of the Poisson distribution from 2h and the mathematical function for the Poisson probability mass function, what is the probability that the total number of Atlantic and Pacific major hurricanes (T) will be greater than or equal to eight in a given year?"
   ]
  },
  {
   "cell_type": "code",
   "execution_count": 29,
   "metadata": {},
   "outputs": [
    {
     "name": "stdout",
     "output_type": "stream",
     "text": [
      "Probability that total hurricanes > 8: 28.398374220780532%\n"
     ]
    }
   ],
   "source": [
    "lambda_T = 6.2\n",
    "\n",
    "probabilities_T = [((lambda_T ** x) * math.exp(-lambda_T)) / math.factorial(x) for x in range(8)]\n",
    "\n",
    "p_leq_7 = sum(probabilities_T)\n",
    "# Calculate P(T >= 8)\n",
    "p_geq_8 = 1 - p_leq_7\n",
    "\n",
    "print(f\"Probability that total hurricanes > 8: {p_geq_8*100}%\" )\n",
    "\n",
    "#This is really small"
   ]
  },
  {
   "cell_type": "markdown",
   "metadata": {},
   "source": [
    "## 3. Overdispersion:"
   ]
  },
  {
   "cell_type": "markdown",
   "metadata": {},
   "source": [
    "#### a. Find values of the parameters (r and p) of the NB distribution that minimize the chi-square criterion for the data on T. Note that r should be constrained to integer values. Report both the chi-square value and the corresponding value of the parameters. Also use these parameter values to calculate the mean and variance of the fitted NB distribution."
   ]
  },
  {
   "cell_type": "code",
   "execution_count": 30,
   "metadata": {},
   "outputs": [
    {
     "name": "stdout",
     "output_type": "stream",
     "text": [
      "Optimal r: 9, Optimal p: 0.5619\n"
     ]
    }
   ],
   "source": [
    "import numpy as np\n",
    "import pandas as pd\n",
    "from scipy.stats import binom, nbinom, poisson\n",
    "from scipy.optimize import minimize\n",
    "\n",
    "# Calculate the observed frequencies from the total_hurricanes_series\n",
    "observed_freqs = total_hurricanes_series.value_counts().sort_index()\n",
    "\n",
    "# Define the chi-square function to minimize\n",
    "def chi_square(params):\n",
    "    r, p = params\n",
    "    if not (0 < p < 1):\n",
    "        return np.inf  # Return a large value if p is out of bounds\n",
    "    \n",
    "    expected_freqs = []\n",
    "    # Calculate expected frequencies using the Negative Binomial distribution\n",
    "    for k in observed_freqs.index:\n",
    "        # Calculate the expected number of occurrences for each k using the NB distribution\n",
    "        expected = nbinom.pmf(k, r, p) * len(total_hurricanes_series)\n",
    "        expected_freqs.append(expected)\n",
    "    \n",
    "    # Chi-square criterion calculation\n",
    "    chi_square_value = np.sum(((observed_freqs.values - np.array(expected_freqs))**2) / np.array(expected_freqs))\n",
    "    return chi_square_value\n",
    "\n",
    "# Optimize the chi-square function over r and p\n",
    "initial_guess = [5, 0.5]  # Starting point for r and p\n",
    "bounds = [(1, 50), (0.01, 0.99)]  # Bounds for r (integer) and p\n",
    "\n",
    "result = minimize(chi_square, initial_guess, bounds=bounds, method='L-BFGS-B')\n",
    "\n",
    "# Extract the optimal r and p values\n",
    "optimal_r, optimal_p = result.x\n",
    "optimal_r = int(np.round(optimal_r))  # Ensure r is an integer\n",
    "print(f\"Optimal r: {optimal_r}, Optimal p: {optimal_p:.4f}\")\n"
   ]
  },
  {
   "cell_type": "markdown",
   "metadata": {},
   "source": [
    "#### b. Using your estimated values of the parameters (r and p) of the NB distribution from 3a, what is the probability that the total number of Atlantic and Pacific major hurricanes (T) will be greater than or equal to eight in a given year?"
   ]
  },
  {
   "cell_type": "code",
   "execution_count": 31,
   "metadata": {},
   "outputs": [
    {
     "name": "stdout",
     "output_type": "stream",
     "text": [
      "The probability that the number of hurricanes is greater than or equal to 8 is: 0.3992\n"
     ]
    }
   ],
   "source": [
    "r = optimal_r \n",
    "p = optimal_p  \n",
    "\n",
    "# Calculate P(X >= 8), which is 1 - P(X < 8)\n",
    "probability = 1 - nbinom.cdf(7, r, p)\n",
    "print(f\"The probability that the number of hurricanes is greater than or equal to 8 is: {probability:.4f}\")\n"
   ]
  },
  {
   "cell_type": "markdown",
   "metadata": {},
   "source": [
    "#### c. Does the overdispersed Poisson (i.e., NB) provide a better fit to the data on T than the standard Poisson distribution? Explain how you know this quantitatively"
   ]
  },
  {
   "cell_type": "markdown",
   "metadata": {},
   "source": [
    "##### I am going to preform a likelihood ratio test"
   ]
  },
  {
   "cell_type": "code",
   "execution_count": 41,
   "metadata": {},
   "outputs": [
    {
     "name": "stdout",
     "output_type": "stream",
     "text": [
      "Poisson Log-Likelihood: 2.5677181422110786\n",
      "Negative Binomial Log-Likelihood: 2.697895212908649\n",
      "-0.26035414139514046\n"
     ]
    }
   ],
   "source": [
    "data = pd.DataFrame({\n",
    "    \"Number_of_Hurricanes\": hurricanes_a,\n",
    "    \"Count\": pmf\n",
    "})\n",
    "\n",
    "# Define the Log-Likelihood function\n",
    "def LogLikelihood(parameters, data, distribution):\n",
    "    if distribution == poisson:\n",
    "        # Poisson requires 1 parameter: λ (mean)\n",
    "        lam = parameters[0]\n",
    "        probabilities = distribution.pmf(data['Number_of_Hurricanes'], lam)\n",
    "    elif distribution == nbinom:\n",
    "        # Negative Binomial requires 2 parameters: r (size) and p (probability)\n",
    "        r, p = parameters  # Unpack the two parameters\n",
    "        probabilities = distribution.pmf(data['Number_of_Hurricanes'], r, p)\n",
    "    else:\n",
    "        raise ValueError(\"\")\n",
    "\n",
    "    # Avoid log(0) errors by replacing zero probabilities\n",
    "    probabilities = np.maximum(probabilities, 1e-10)  # Replace 0s with a small value\n",
    "\n",
    "    # Negative log-likelihood\n",
    "    log_probabilities = -np.log(probabilities)\n",
    "    return np.sum(data['Count'] * log_probabilities)  # Weighted sum of negative log-likelihoods\n",
    "\n",
    "# Example parameters\n",
    "poisson_params = [6]  # λ for Poisson from above this value changes based on my init\n",
    "nbinom_params = [9, 0.5]  # r and p for Negative Binomial from above\n",
    "\n",
    "# Compute Log-Likelihoods\n",
    "print(\"Poisson Log-Likelihood:\", LogLikelihood(poisson_params, data, poisson))\n",
    "print(\"Negative Binomial Log-Likelihood:\", LogLikelihood(nbinom_params, data, nbinom))\n",
    "\n",
    "#now for the test \n",
    "#The difference in log-likelihoods quantifies how much better the NB model fits the data compared to the Poisson model.\n",
    "answer = 2 * (LogLikelihood(poisson_params, data, poisson) - LogLikelihood(nbinom_params, data, nbinom))\n",
    "print(answer)\n"
   ]
  },
  {
   "cell_type": "markdown",
   "metadata": {},
   "source": [
    "##### the negitive value indicates that the poisson model is fit better "
   ]
  },
  {
   "cell_type": "markdown",
   "metadata": {},
   "source": [
    "#### d. Plot a bar graph of T, along with the corresponding values derived from the Poisson and overdispersed Poisson (i.e., NB) distributions. Which visually appears to fit the data better?"
   ]
  },
  {
   "cell_type": "code",
   "execution_count": 32,
   "metadata": {},
   "outputs": [
    {
     "data": {
      "image/png": "[encoded data removed]",
      "text/plain": [
       "<Figure size 720x432 with 1 Axes>"
      ]
     },
     "metadata": {
      "needs_background": "light"
     },
     "output_type": "display_data"
    }
   ],
   "source": [
    "# Calculate the observed frequencies from the total_hurricanes_series\n",
    "observed_freqs = total_hurricanes_series.value_counts().sort_index()\n",
    "\n",
    "# Estimate the Poisson parameter (lambda) as the mean of the data\n",
    "lambda_poisson = total_hurricanes_series.mean()\n",
    "\n",
    "# Calculate expected frequencies under the Poisson distribution\n",
    "expected_freqs_poisson = [poisson.pmf(k, lambda_poisson) * len(total_hurricanes_series) for k in observed_freqs.index]\n",
    "\n",
    "# Calculate expected frequencies under the Negative Binomial distribution\n",
    "expected_freqs_nb = [nbinom.pmf(k, optimal_r, optimal_p) * len(total_hurricanes_series) for k in observed_freqs.index]\n",
    "\n",
    "# Plot the observed and expected frequencies\n",
    "plt.figure(figsize=(10, 6))\n",
    "\n",
    "# Plot the observed data as a bar plot\n",
    "plt.bar(observed_freqs.index - 0.2, observed_freqs.values, width=0.4, label='Observed', color='gray', alpha=0.7)\n",
    "plt.plot( expected_freqs_poisson, label='Poisson Fit', color='blue', alpha=0.7, marker='o')\n",
    "\n",
    "# Plot the expected frequencies for Negative Binomial as a line graph\n",
    "plt.plot( expected_freqs_nb, label='Negative Binomial Fit', color='red', alpha=0.7, marker='o')\n",
    "\n",
    "# Labels and title\n",
    "plt.xlabel('Total Hurricanes')\n",
    "plt.ylabel('Frequency')\n",
    "plt.title('Observed vs Expected Frequencies for Poisson and Negative Binomial Distributions')\n",
    "plt.legend()\n",
    "\n",
    "# Display the plot\n",
    "plt.show()\n"
   ]
  },
  {
   "cell_type": "code",
   "execution_count": null,
   "metadata": {},
   "outputs": [],
   "source": []
  }
 ],
 "metadata": {
  "kernelspec": {
   "display_name": "Python 3 (ipykernel)",
   "language": "python",
   "name": "python3"
  },
  "language_info": {
   "codemirror_mode": {
    "name": "ipython",
    "version": 3
   },
   "file_extension": ".py",
   "mimetype": "text/x-python",
   "name": "python",
   "nbconvert_exporter": "python",
   "pygments_lexer": "ipython3",
   "version": "3.10.10"
  }
 },
 "nbformat": 4,
 "nbformat_minor": 4
}
